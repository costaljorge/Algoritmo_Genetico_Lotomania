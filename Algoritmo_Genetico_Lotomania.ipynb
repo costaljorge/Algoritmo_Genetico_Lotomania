{
  "nbformat": 4,
  "nbformat_minor": 0,
  "metadata": {
    "colab": {
      "provenance": [],
      "authorship_tag": "ABX9TyNHr+kVh73NuYOokTe0h6qW",
      "include_colab_link": true
    },
    "kernelspec": {
      "name": "python3",
      "display_name": "Python 3"
    },
    "language_info": {
      "name": "python"
    }
  },
  "cells": [
    {
      "cell_type": "markdown",
      "metadata": {
        "id": "view-in-github",
        "colab_type": "text"
      },
      "source": [
        "<a href=\"https://colab.research.google.com/github/costaljorge/Algoritmo_Genetico_Lotomania/blob/main/Algoritmo_Genetico_Lotomania.ipynb\" target=\"_parent\"><img src=\"https://colab.research.google.com/assets/colab-badge.svg\" alt=\"Open In Colab\"/></a>"
      ]
    },
    {
      "cell_type": "code",
      "source": [],
      "metadata": {
        "id": "k3yeeB8Oi5XQ"
      },
      "execution_count": null,
      "outputs": []
    },
    {
      "cell_type": "markdown",
      "source": [
        "##Um **algoritmo genético** é uma técnica de otimização inspirada na evolução natural. Ele usa mecanismos como herança, mutação, seleção e crossover (reprodução) para gerar soluções para um problema. Inicia-se com uma população de soluções possíveis (indivíduos) que evoluem ao longo das gerações. Em cada geração, a aptidão de cada indivíduo é avaliada, os mais aptos são selecionados para reprodução e geram novos indivíduos. Este processo é repetido até que uma condição de parada seja atingida. Algoritmos genéticos são úteis para problemas de otimização complexos e não-lineares."
      ],
      "metadata": {
        "id": "tNaAeMgIi8OE"
      }
    },
    {
      "cell_type": "code",
      "source": [
        "# Instalando a Biblioteca python para Algoritmos Genéticos (deap)\n",
        "!pip install deap"
      ],
      "metadata": {
        "id": "HRcHFQFf08_V"
      },
      "execution_count": null,
      "outputs": []
    },
    {
      "cell_type": "code",
      "source": [
        "# Leitura do aquivo\n",
        "# O arquivo esta instalado na area de trabalho, bloco de notas no formato .txt\n",
        "# Cada linha de iniciar com a tag < e ser fechada com a tag >\n",
        "# Por exemplo <07 08 10 12 19 21 25 27 37 43 45 48 69 75 80 82 84 88 92 93>\n",
        "# Para esse exemplo formam inserida 5 linhas\n",
        "# Abrir o arquivo para leitura\n",
        "with open('/content/Loteria.txt', 'r') as file:\n",
        "    # Ler as linhas do arquivo\n",
        "    lines = file.readlines()\n",
        "\n",
        "# Inicializar a lista de listas\n",
        "data = []\n",
        "\n",
        "# Iterar sobre as linhas\n",
        "for line in lines:\n",
        "    # Remover os caracteres de tag <>\n",
        "    line = line.strip('<>').strip('>')\n",
        "    # Separar os números e converter para inteiros\n",
        "    numbers = [int(num.strip('>')) for num in line.split()]\n",
        "    # Adicionar a lista de números à lista de dados\n",
        "    data.append(numbers)"
      ],
      "metadata": {
        "id": "6uVsj6_NeGKy"
      },
      "execution_count": null,
      "outputs": []
    },
    {
      "cell_type": "code",
      "source": [
        "import random\n",
        "from deap import base, creator, tools\n",
        "\n",
        "# Definição da função de interseção com as linhas\n",
        "def intersection_size(chromosome, lines):\n",
        "    total_intersection = 0\n",
        "    for line in lines:\n",
        "        intersection = set(chromosome) & set(line)\n",
        "        total_intersection += min(len(intersection), 20)\n",
        "    return total_intersection\n",
        "\n",
        "# Configuração do algoritmo genético\n",
        "creator.create(\"FitnessMax\", base.Fitness, weights=(1.0,))\n",
        "creator.create(\"Individual\", list, fitness=creator.FitnessMax)\n",
        "toolbox = base.Toolbox()\n",
        "# Cromossomo de tamanho 50 com valores únicos de 0 a 99\n",
        "toolbox.register(\"attr_int\", random.sample, range(100), 50)\n",
        "toolbox.register(\"individual\", tools.initIterate, creator.Individual, toolbox.attr_int)\n",
        "toolbox.register(\"population\", tools.initRepeat, list, toolbox.individual)\n",
        "toolbox.register(\"mate\", tools.cxTwoPoint)\n",
        "toolbox.register(\"mutate\", tools.mutUniformInt, low=0, up=99, indpb=0.05)\n",
        "toolbox.register(\"select\", tools.selTournament, tournsize=3)\n",
        "toolbox.register(\"evaluate\", intersection_size, lines=data)\n",
        "\n",
        "# Execução do algoritmo genético\n",
        "population = toolbox.population(n=100)\n",
        "num_generations = 50\n",
        "for gen in range(num_generations):\n",
        "    offspring = toolbox.select(population, len(population))\n",
        "    offspring = list(map(toolbox.clone, offspring))\n",
        "\n",
        "    for child1, child2 in zip(offspring[::2], offspring[1::2]):\n",
        "        if random.random() < 0.5:\n",
        "            toolbox.mate(child1, child2)\n",
        "            del child1.fitness.values\n",
        "            del child2.fitness.values\n",
        "\n",
        "    for mutant in offspring:\n",
        "        if random.random() < 0.2:\n",
        "            toolbox.mutate(mutant)\n",
        "            del mutant.fitness.values\n",
        "\n",
        "    invalid_ind = [ind for ind in offspring if not ind.fitness.valid]\n",
        "    fitnesses = toolbox.map(toolbox.evaluate, invalid_ind)\n",
        "    for ind, fit in zip(invalid_ind, fitnesses):\n",
        "        ind.fitness.values = (fit,)\n",
        "\n",
        "    population[:] = offspring\n",
        "\n",
        "# Encontrar o melhor indivíduo\n",
        "best_ind = tools.selBest(population, 1)[0]\n",
        "print(\"Melhor Interseção:\", intersection_size(best_ind,data))\n",
        "\n",
        "best_ind_sorted = sorted(best_ind)\n",
        "print(\"Melhor Indivíduo:\", best_ind_sorted)\n"
      ],
      "metadata": {
        "id": "fsRSGDZ98kWn"
      },
      "execution_count": null,
      "outputs": []
    }
  ]
}