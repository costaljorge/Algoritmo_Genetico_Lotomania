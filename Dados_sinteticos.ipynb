{
  "nbformat": 4,
  "nbformat_minor": 0,
  "metadata": {
    "colab": {
      "provenance": [],
      "authorship_tag": "ABX9TyMqKnJ9SpMp7fVqoQx2CC7n",
      "include_colab_link": true
    },
    "kernelspec": {
      "name": "python3",
      "display_name": "Python 3"
    },
    "language_info": {
      "name": "python"
    }
  },
  "cells": [
    {
      "cell_type": "markdown",
      "metadata": {
        "id": "view-in-github",
        "colab_type": "text"
      },
      "source": [
        "<a href=\"https://colab.research.google.com/github/costaljorge/Algoritmo_Genetico_Lotomania/blob/main/Dados_sinteticos.ipynb\" target=\"_parent\"><img src=\"https://colab.research.google.com/assets/colab-badge.svg\" alt=\"Open In Colab\"/></a>"
      ]
    },
    {
      "cell_type": "code",
      "execution_count": 3,
      "metadata": {
        "colab": {
          "base_uri": "https://localhost:8080/"
        },
        "id": "A6LYEwYN2Uhu",
        "outputId": "e712db8c-0fbb-4f63-b12c-65e51e4fde5f"
      },
      "outputs": [
        {
          "output_type": "stream",
          "name": "stdout",
          "text": [
            "Arquivo salvo com sucesso!\n"
          ]
        }
      ],
      "source": [
        "# 2024 será um ano crucial para os dados sintéticos.\n",
        "# Estima-se que 60% dos dados utilizados para o desenvolvimento de IA e análises\n",
        "# serão gerados sinteticamente, tornando-se um recurso essencial para diversos setores.\n",
        "\n",
        "import pandas as pd\n",
        "import random\n",
        "\n",
        "# Definindo os gêneros de filmes\n",
        "generos = ['Terror', 'Romance', 'Documentário', 'Ação', 'Suspense', 'Anime', 'Ficção', 'Comédia', 'Drama']\n",
        "\n",
        "# Inicializando o DataFrame\n",
        "df = pd.DataFrame(columns=generos)\n",
        "\n",
        "# Gerando os dados para 200 linhas\n",
        "for _ in range(200):\n",
        "    # Inicializando a lista de filmes assistidos\n",
        "    filmes_assistidos = []\n",
        "\n",
        "    # Escolhendo aleatoriamente dois filmes para assistir\n",
        "    for _ in range(2):\n",
        "        filme = random.choice(generos)\n",
        "        filmes_assistidos.append(filme)\n",
        "\n",
        "    # Preenchendo o DataFrame com 1 para os filmes assistidos e 0 para os demais\n",
        "    linha = {genero: 1 if genero in filmes_assistidos else 0 for genero in generos}\n",
        "    #df = df.append(linha, ignore_index=True)\n",
        "    df.loc[len(df)] = linha\n",
        "\n",
        "# Salvando o DataFrame em um arquivo Excel\n",
        "df.to_excel('Filmes.xlsx', index=False)\n",
        "\n",
        "print(\"Arquivo salvo com sucesso!\")\n"
      ]
    },
    {
      "cell_type": "code",
      "source": [],
      "metadata": {
        "id": "Pj-o0J37SNJs"
      },
      "execution_count": null,
      "outputs": []
    }
  ]
}